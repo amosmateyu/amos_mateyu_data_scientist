{
  "nbformat": 4,
  "nbformat_minor": 0,
  "metadata": {
    "colab": {
      "provenance": [],
      "authorship_tag": "ABX9TyP1/zx+1MqSraYpCV3jrVtZ",
      "include_colab_link": true
    },
    "kernelspec": {
      "name": "python3",
      "display_name": "Python 3"
    },
    "language_info": {
      "name": "python"
    }
  },
  "cells": [
    {
      "cell_type": "markdown",
      "metadata": {
        "id": "view-in-github",
        "colab_type": "text"
      },
      "source": [
        "<a href=\"https://colab.research.google.com/github/amosmateyu/amos_mateyu_data_scientist/blob/main/code%20which%20correct%20images%20with%20camera.ipynb\" target=\"_parent\"><img src=\"https://colab.research.google.com/assets/colab-badge.svg\" alt=\"Open In Colab\"/></a>"
      ]
    },
    {
      "cell_type": "code",
      "execution_count": 1,
      "metadata": {
        "colab": {
          "base_uri": "https://localhost:8080/"
        },
        "id": "Xtoj4Ntf27B0",
        "outputId": "ce0dbdb5-82d5-46df-cc4f-f93e572c3eec"
      },
      "outputs": [
        {
          "output_type": "stream",
          "name": "stdout",
          "text": [
            "Collecting images for hello\n",
            "Failed to capture frame\n",
            "Failed to capture frame\n",
            "Failed to capture frame\n",
            "Failed to capture frame\n",
            "Failed to capture frame\n",
            "Failed to capture frame\n",
            "Failed to capture frame\n",
            "Failed to capture frame\n",
            "Failed to capture frame\n",
            "Failed to capture frame\n",
            "Failed to capture frame\n",
            "Failed to capture frame\n",
            "Failed to capture frame\n",
            "Failed to capture frame\n",
            "Failed to capture frame\n",
            "Collecting images for thanks\n",
            "Failed to capture frame\n",
            "Failed to capture frame\n",
            "Failed to capture frame\n",
            "Failed to capture frame\n",
            "Failed to capture frame\n",
            "Failed to capture frame\n",
            "Failed to capture frame\n",
            "Failed to capture frame\n",
            "Failed to capture frame\n",
            "Failed to capture frame\n",
            "Failed to capture frame\n",
            "Failed to capture frame\n",
            "Failed to capture frame\n",
            "Failed to capture frame\n",
            "Failed to capture frame\n",
            "Collecting images for yes\n",
            "Failed to capture frame\n",
            "Failed to capture frame\n",
            "Failed to capture frame\n",
            "Failed to capture frame\n",
            "Failed to capture frame\n",
            "Failed to capture frame\n",
            "Failed to capture frame\n",
            "Failed to capture frame\n",
            "Failed to capture frame\n",
            "Failed to capture frame\n",
            "Failed to capture frame\n",
            "Failed to capture frame\n",
            "Failed to capture frame\n",
            "Failed to capture frame\n",
            "Failed to capture frame\n",
            "Collecting images for no\n",
            "Failed to capture frame\n",
            "Failed to capture frame\n",
            "Failed to capture frame\n",
            "Failed to capture frame\n",
            "Failed to capture frame\n",
            "Failed to capture frame\n",
            "Failed to capture frame\n",
            "Failed to capture frame\n",
            "Failed to capture frame\n",
            "Failed to capture frame\n",
            "Failed to capture frame\n",
            "Failed to capture frame\n",
            "Failed to capture frame\n",
            "Failed to capture frame\n",
            "Failed to capture frame\n",
            "Collecting images for Iloveyou\n",
            "Failed to capture frame\n",
            "Failed to capture frame\n",
            "Failed to capture frame\n",
            "Failed to capture frame\n",
            "Failed to capture frame\n",
            "Failed to capture frame\n",
            "Failed to capture frame\n",
            "Failed to capture frame\n",
            "Failed to capture frame\n",
            "Failed to capture frame\n",
            "Failed to capture frame\n",
            "Failed to capture frame\n",
            "Failed to capture frame\n",
            "Failed to capture frame\n",
            "Failed to capture frame\n"
          ]
        }
      ],
      "source": [
        "import cv2\n",
        "import os\n",
        "import time\n",
        "import uuid\n",
        "\n",
        "IMAGES_PATH = \"C:\\\\Users\\PAFSt\\\\OneDrive\\\\Desktop\\\\STAFF\\\\LEVEL 2\"\n",
        "labels = ['hello', 'thanks', 'yes', 'no', 'Iloveyou']\n",
        "number_ings = 15\n",
        "\n",
        "for label in labels:\n",
        "    os.makedirs(os.path.join(IMAGES_PATH, label), exist_ok=True)  # Create directory if it doesn't exist\n",
        "    cap = cv2.VideoCapture(0)\n",
        "    print(\"Collecting images for {}\".format(label))\n",
        "    time.sleep(5)\n",
        "    for imgnum in range(number_ings):\n",
        "        ret, frame = cap.read()\n",
        "        if not ret:\n",
        "            print(\"Failed to capture frame\")\n",
        "            continue  # Skip current iteration and move to the next one\n",
        "        image_name = os.path.join(IMAGES_PATH, label, label + '_' + str(uuid.uuid1()) + '.jpg')\n",
        "        cv2.imwrite(image_name, frame)\n",
        "        cv2.imshow(\"Captured Image\", frame)  # Display the captured image\n",
        "        time.sleep(2)\n",
        "        if cv2.waitKey(1) & 0xFF == ord('q'):  # Press 'q' to exit the image collection\n",
        "            break\n",
        "    cap.release()\n",
        "\n",
        "cv2.destroyAllWindows()  # Close all OpenCV windows\n"
      ]
    },
    {
      "cell_type": "code",
      "source": [],
      "metadata": {
        "id": "5c-t5pbG3Dei"
      },
      "execution_count": null,
      "outputs": []
    }
  ]
}