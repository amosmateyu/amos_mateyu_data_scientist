{
  "nbformat": 4,
  "nbformat_minor": 0,
  "metadata": {
    "colab": {
      "provenance": [],
      "authorship_tag": "ABX9TyNnria1j6QTqKd/KvJVwOKt",
      "include_colab_link": true
    },
    "kernelspec": {
      "name": "python3",
      "display_name": "Python 3"
    },
    "language_info": {
      "name": "python"
    }
  },
  "cells": [
    {
      "cell_type": "markdown",
      "metadata": {
        "id": "view-in-github",
        "colab_type": "text"
      },
      "source": [
        "<a href=\"https://colab.research.google.com/github/amosmateyu/amos_mateyu_data_scientist/blob/main/reading_files.ipynb\" target=\"_parent\"><img src=\"https://colab.research.google.com/assets/colab-badge.svg\" alt=\"Open In Colab\"/></a>"
      ]
    },
    {
      "cell_type": "code",
      "execution_count": 51,
      "metadata": {
        "id": "43a7X1q9Kqko"
      },
      "outputs": [],
      "source": [
        "import csv\n",
        "from openpyxl import Workbook"
      ]
    },
    {
      "cell_type": "code",
      "source": [
        "#this is data that want to write on csv file\n",
        "data=[ [\"name\",\"district\",\"age\",\"school\"],\n",
        "      [\"amos mateyu\",\"nsanje\",20,\"nsanje secondary\"],\n",
        "       [\"gift amos\",\"chikwawa \",24,\"kapalakonje\"]\n",
        "\n",
        "]"
      ],
      "metadata": {
        "id": "D4b_fIg3Kwth"
      },
      "execution_count": 3,
      "outputs": []
    },
    {
      "cell_type": "code",
      "source": [
        "#creating the csv  file which l want add my data\n",
        "csv_file=\"location.csv\""
      ],
      "metadata": {
        "id": "vZvS1bhbLuG8"
      },
      "execution_count": 4,
      "outputs": []
    },
    {
      "cell_type": "code",
      "source": [
        "#creating and open my csv file\n",
        "with open(csv_file,mode=\"w\",newline=\"\") as file:\n",
        "  writer_object=csv.writer(file)\n",
        "  for message in data:\n",
        "    writer_object.writerow(message)"
      ],
      "metadata": {
        "id": "NA9BrV7kMNFi"
      },
      "execution_count": 9,
      "outputs": []
    },
    {
      "cell_type": "code",
      "source": [
        "with open(csv_file,mode=\"r\") as file:\n",
        "  reader_object=csv.reader(file)\n",
        "  for messages in reader_object:\n",
        "    print(messages)"
      ],
      "metadata": {
        "colab": {
          "base_uri": "https://localhost:8080/"
        },
        "id": "QWuzBJEJOFS6",
        "outputId": "ddc5d21d-1aaf-486e-9f65-b0af99cda961"
      },
      "execution_count": 10,
      "outputs": [
        {
          "output_type": "stream",
          "name": "stdout",
          "text": [
            "['name', 'district', 'age', 'school']\n",
            "['amos mateyu', 'nsanje', '20', 'nsanje secondary']\n",
            "['gift amos', 'chikwawa ', '24', 'kapalakonje']\n"
          ]
        }
      ]
    },
    {
      "cell_type": "code",
      "source": [
        "#creating a text file to store my notes\n",
        "data_science_text_file=\"data_wrangling.txt\"\n"
      ],
      "metadata": {
        "id": "lpVsfJPfR5IX"
      },
      "execution_count": 11,
      "outputs": []
    },
    {
      "cell_type": "code",
      "source": [
        "#creating my notes about data wrangling and exploratory data analysis\n",
        "notes=[[\"This data science\"],[\"we are going to  deal with data wrangling and exploratory data analysis\"],\n",
        "       [\"so that is data wrangling\"],[\"data wrangling is a process of turning raw data into useful products and help people to make dicision\"]]"
      ],
      "metadata": {
        "id": "ug8f08sEStH4"
      },
      "execution_count": 25,
      "outputs": []
    },
    {
      "cell_type": "code",
      "source": [
        "with open(data_science_text_file,mode=\"w\") as file:\n",
        "  object_writer=csv.writer(file)\n",
        "\n",
        "  for messagess in notes:\n",
        "    object_writer.writerow(messagess)\n",
        "\n"
      ],
      "metadata": {
        "id": "9Y0WGZWKSRyP"
      },
      "execution_count": 26,
      "outputs": []
    },
    {
      "cell_type": "code",
      "source": [
        "with open(data_science_text_file,mode=\"r\") as file:\n",
        "  object_readers=csv.reader(file)\n",
        "  for notes in object_readers:\n",
        "    print(notes)"
      ],
      "metadata": {
        "colab": {
          "base_uri": "https://localhost:8080/"
        },
        "id": "sKGHEZzNUiU-",
        "outputId": "a3eeeabd-6f5f-440f-def4-5f704a6eaa35"
      },
      "execution_count": 27,
      "outputs": [
        {
          "output_type": "stream",
          "name": "stdout",
          "text": [
            "['This data science']\n",
            "['we are going to  deal with data wrangling and exploratory data analysis']\n",
            "['so that is data wrangling']\n",
            "['data wrangling is a process of turning raw data into useful products and help people to make dicision']\n"
          ]
        }
      ]
    },
    {
      "cell_type": "code",
      "source": [
        "#creating tabular separatory file to school details\n",
        "tsv_for_school_details=\"school_details.tsv\"\n"
      ],
      "metadata": {
        "id": "T3qcKTWdVeYs"
      },
      "execution_count": 35,
      "outputs": []
    },
    {
      "cell_type": "code",
      "source": [
        "#school details\n",
        "school_details=[[\"name of school\",\"location\",\"program of study\"],{\"name\":\"mzuzu university\",\"location\":\"Malawi\",\"program\":\"data science\"},]\n"
      ],
      "metadata": {
        "id": "W5H9bEiUZ2xZ"
      },
      "execution_count": 36,
      "outputs": []
    },
    {
      "cell_type": "code",
      "source": [
        "#creating tsv file which store my school details\n",
        "with open(tsv_for_school_details,mode=\"w\",newline=\"\") as file:\n",
        "  object_writer=csv.writer(file,delimiter=\"\\t\")\n",
        "  for details in school_details:\n",
        "    object_writer.writerow(details)"
      ],
      "metadata": {
        "id": "K7GQeCjcbA9Z"
      },
      "execution_count": 40,
      "outputs": []
    },
    {
      "cell_type": "code",
      "source": [
        "#reading tsv file which contain my school details\n",
        "with open (tsv_for_school_details,mode=\"r\") as file:\n",
        "  object_reader=csv.reader(file)\n",
        "  for school in object_reader:\n",
        "    print(school)\n",
        ""
      ],
      "metadata": {
        "colab": {
          "base_uri": "https://localhost:8080/"
        },
        "id": "8u-dXhGTdE-D",
        "outputId": "1156b454-7119-435a-e627-0e353ad05be3"
      },
      "execution_count": 42,
      "outputs": [
        {
          "output_type": "stream",
          "name": "stdout",
          "text": [
            "['name of school\\tlocation\\tprogram of study']\n",
            "['name\\tlocation\\tprogram']\n"
          ]
        }
      ]
    },
    {
      "cell_type": "markdown",
      "source": [
        "CREATING AN EXCELL FILE"
      ],
      "metadata": {
        "id": "o1qdIGaKpQlw"
      }
    },
    {
      "cell_type": "code",
      "source": [
        "\n",
        "\n",
        "sheet = Workbook()\n",
        "\n",
        "\n",
        "ws = sheet.active\n",
        "\n",
        "\n",
        "data = [\n",
        "    ['Name', 'Age', 'City'],\n",
        "    ['Alice', 30, 'New York'],\n",
        "    ['Bob', 25, 'San Francisco'],\n",
        "    ['Charlie', 35, 'Seattle']\n",
        "]\n",
        "\n",
        "for row in data:\n",
        "    ws.append(row)\n",
        "\n",
        "\n",
        "file_name = 'address of different people.xlsx'\n",
        "\n",
        "\n",
        "sheet.save(file_name)\n",
        "\n",
        "\n",
        "\n"
      ],
      "metadata": {
        "id": "9NfXXWo2hZwT"
      },
      "execution_count": 68,
      "outputs": []
    },
    {
      "cell_type": "markdown",
      "source": [
        "OPENING AN EXCELL FILE"
      ],
      "metadata": {
        "id": "i-e5aCa0pXqK"
      }
    },
    {
      "cell_type": "code",
      "source": [
        "\n",
        "wb = load_workbook(filename=file_name)\n",
        "\n",
        "\n",
        "ws = wb.active\n",
        "\n",
        "for row in ws.iter_rows(values_only=True):\n",
        "    print(row)\n",
        "\n",
        "\n",
        "wb.close()\n"
      ],
      "metadata": {
        "colab": {
          "base_uri": "https://localhost:8080/"
        },
        "id": "gp1mgpr8orC_",
        "outputId": "fe2cec6b-b7ad-4546-c452-f1a1ba204998"
      },
      "execution_count": 69,
      "outputs": [
        {
          "output_type": "stream",
          "name": "stdout",
          "text": [
            "('Name', 'Age', 'City')\n",
            "('Alice', 30, 'New York')\n",
            "('Bob', 25, 'San Francisco')\n",
            "('Charlie', 35, 'Seattle')\n"
          ]
        }
      ]
    }
  ]
}