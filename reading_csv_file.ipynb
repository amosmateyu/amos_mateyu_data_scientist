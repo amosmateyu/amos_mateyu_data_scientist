{
  "nbformat": 4,
  "nbformat_minor": 0,
  "metadata": {
    "colab": {
      "provenance": [],
      "authorship_tag": "ABX9TyPOSERgZG1FmNQAPl6oejNF",
      "include_colab_link": true
    },
    "kernelspec": {
      "name": "python3",
      "display_name": "Python 3"
    },
    "language_info": {
      "name": "python"
    }
  },
  "cells": [
    {
      "cell_type": "markdown",
      "metadata": {
        "id": "view-in-github",
        "colab_type": "text"
      },
      "source": [
        "<a href=\"https://colab.research.google.com/github/amosmateyu/amos_mateyu_data_scientist/blob/main/reading_csv_file.ipynb\" target=\"_parent\"><img src=\"https://colab.research.google.com/assets/colab-badge.svg\" alt=\"Open In Colab\"/></a>"
      ]
    },
    {
      "cell_type": "code",
      "execution_count": 1,
      "metadata": {
        "id": "43a7X1q9Kqko"
      },
      "outputs": [],
      "source": [
        "import csv"
      ]
    },
    {
      "cell_type": "code",
      "source": [
        "#this is data that want to write on csv file\n",
        "data=[ [\"name\",\"district\",\"age\",\"school\"],\n",
        "      [\"amos mateyu\",\"nsanje\",20,\"nsanje secondary\"],\n",
        "       [\"gift amos\",\"chikwawa \",24,\"kapalakonje\"]\n",
        "\n",
        "]"
      ],
      "metadata": {
        "id": "D4b_fIg3Kwth"
      },
      "execution_count": 3,
      "outputs": []
    },
    {
      "cell_type": "code",
      "source": [
        "#creating the csv  file which l want add my data\n",
        "csv_file=\"location.csv\""
      ],
      "metadata": {
        "id": "vZvS1bhbLuG8"
      },
      "execution_count": 4,
      "outputs": []
    },
    {
      "cell_type": "code",
      "source": [
        "#creating and open my csv file\n",
        "with open(csv_file,mode=\"w\",newline=\"\") as file:\n",
        "  writer_object=csv.writer(file)\n",
        "  for message in data:\n",
        "    writer_object.writerow(message)"
      ],
      "metadata": {
        "id": "NA9BrV7kMNFi"
      },
      "execution_count": 9,
      "outputs": []
    },
    {
      "cell_type": "code",
      "source": [
        "with open(csv_file,mode=\"r\") as file:\n",
        "  reader_object=csv.reader(file)\n",
        "  for messages in reader_object:\n",
        "    print(messages)"
      ],
      "metadata": {
        "colab": {
          "base_uri": "https://localhost:8080/"
        },
        "id": "QWuzBJEJOFS6",
        "outputId": "ddc5d21d-1aaf-486e-9f65-b0af99cda961"
      },
      "execution_count": 10,
      "outputs": [
        {
          "output_type": "stream",
          "name": "stdout",
          "text": [
            "['name', 'district', 'age', 'school']\n",
            "['amos mateyu', 'nsanje', '20', 'nsanje secondary']\n",
            "['gift amos', 'chikwawa ', '24', 'kapalakonje']\n"
          ]
        }
      ]
    }
  ]
}